{
  "cells": [
    {
      "cell_type": "markdown",
      "metadata": {
        "id": "view-in-github",
        "colab_type": "text"
      },
      "source": [
        "<a href=\"https://colab.research.google.com/github/sidh1603/1000_TrainablePara_CNN/blob/main/10000_TrainableParameters.ipynb\" target=\"_parent\"><img src=\"https://colab.research.google.com/assets/colab-badge.svg\" alt=\"Open In Colab\"/></a>"
      ]
    },
    {
      "cell_type": "code",
      "execution_count": 18,
      "metadata": {
        "id": "mUWYd9eeUMxS"
      },
      "outputs": [],
      "source": [
        "import tensorflow as tf\n",
        "import numpy as np\n",
        "from tensorflow.keras import layers,models,datasets\n",
        "import matplotlib.pyplot as plt\n",
        "from tensorflow.keras.layers import BatchNormalization"
      ]
    },
    {
      "cell_type": "markdown",
      "metadata": {
        "id": "IUyqsaM2UQvh"
      },
      "source": [
        ""
      ]
    },
    {
      "cell_type": "code",
      "execution_count": 19,
      "metadata": {
        "id": "SOToxrjiUROV"
      },
      "outputs": [],
      "source": [
        "from tensorflow.keras.datasets import mnist"
      ]
    },
    {
      "cell_type": "code",
      "execution_count": 20,
      "metadata": {
        "id": "N4wakrdEVQU3"
      },
      "outputs": [],
      "source": [
        "(X_train,y_train),(X_test,y_test) = mnist.load_data()"
      ]
    },
    {
      "cell_type": "code",
      "execution_count": 21,
      "metadata": {
        "colab": {
          "base_uri": "https://localhost:8080/"
        },
        "id": "sWRjoMWcVXqB",
        "outputId": "746add57-0142-4bae-c831-2ace765d7eed"
      },
      "outputs": [
        {
          "output_type": "stream",
          "name": "stdout",
          "text": [
            "X_train sample : (60000, 28, 28)\n",
            "X_test sample :  (10000, 28, 28)\n"
          ]
        }
      ],
      "source": [
        "X_train = X_train.astype('float32')/255\n",
        "X_test = X_test.astype('float32')/255\n",
        "\n",
        "print(\"X_train sample :\",  X_train.shape )\n",
        "print(\"X_test sample : \" , X_test.shape)"
      ]
    },
    {
      "cell_type": "code",
      "execution_count": 22,
      "metadata": {
        "id": "pJ3I29aOWLRW"
      },
      "outputs": [],
      "source": [
        "from keras.utils import np_utils"
      ]
    },
    {
      "cell_type": "code",
      "execution_count": 23,
      "metadata": {
        "colab": {
          "base_uri": "https://localhost:8080/"
        },
        "id": "1J5nAf7lWzef",
        "outputId": "a4c7014d-ab39-4b78-d514-437d925624ac"
      },
      "outputs": [
        {
          "output_type": "stream",
          "name": "stdout",
          "text": [
            "one hot coding\n",
            "y_train :  [[0. 0. 0. 0. 0. 1. 0. 0. 0. 0.]\n",
            " [1. 0. 0. 0. 0. 0. 0. 0. 0. 0.]\n",
            " [0. 0. 0. 0. 1. 0. 0. 0. 0. 0.]\n",
            " [0. 1. 0. 0. 0. 0. 0. 0. 0. 0.]\n",
            " [0. 0. 0. 0. 0. 0. 0. 0. 0. 1.]\n",
            " [0. 0. 1. 0. 0. 0. 0. 0. 0. 0.]\n",
            " [0. 1. 0. 0. 0. 0. 0. 0. 0. 0.]\n",
            " [0. 0. 0. 1. 0. 0. 0. 0. 0. 0.]\n",
            " [0. 1. 0. 0. 0. 0. 0. 0. 0. 0.]\n",
            " [0. 0. 0. 0. 1. 0. 0. 0. 0. 0.]]\n"
          ]
        }
      ],
      "source": [
        "num_class = 10\n",
        "y_train = np_utils.to_categorical(y_train,num_class)\n",
        "y_test = np_utils.to_categorical(y_test,num_class)\n",
        "\n",
        "\n",
        "print(\"one hot coding\")\n",
        "print(\"y_train : \" , y_train[:10])\n"
      ]
    },
    {
      "cell_type": "code",
      "execution_count": 24,
      "metadata": {
        "colab": {
          "base_uri": "https://localhost:8080/"
        },
        "id": "J29VHeqaXOyx",
        "outputId": "9cba30be-e0ea-48b9-8cc9-d15c2d14bdbc"
      },
      "outputs": [
        {
          "output_type": "stream",
          "name": "stdout",
          "text": [
            "Input Shape : 28 28 1\n",
            "X_Train Shape: 60000\n"
          ]
        }
      ],
      "source": [
        "from tensorflow.keras.models import Sequential\n",
        "from tensorflow.keras.layers import Conv2D, MaxPooling2D, Flatten, Dense, Dropout, GlobalAveragePooling2D\n",
        "\n",
        "\n",
        "img_rows , img_cols = 28,28\n",
        "\n",
        "X_train = X_train.reshape(X_train.shape[0],img_rows,img_cols,1)\n",
        "X_test = X_test.reshape(X_test.shape[0],img_rows,img_cols,1)\n",
        "\n",
        "print(\"Input Shape :\" , img_rows,img_cols,1)\n",
        "print(\"X_Train Shape:\" , X_train.shape[0])"
      ]
    },
    {
      "cell_type": "code",
      "execution_count": 25,
      "metadata": {
        "colab": {
          "base_uri": "https://localhost:8080/"
        },
        "id": "lvLKZIVEYRHg",
        "outputId": "845eef09-8dae-4415-bbf6-5481746f5839"
      },
      "outputs": [
        {
          "output_type": "stream",
          "name": "stdout",
          "text": [
            "Model: \"sequential_5\"\n",
            "_________________________________________________________________\n",
            " Layer (type)                Output Shape              Param #   \n",
            "=================================================================\n",
            " conv2d_21 (Conv2D)          (None, 26, 26, 16)        160       \n",
            "                                                                 \n",
            " max_pooling2d_11 (MaxPoolin  (None, 13, 13, 16)       0         \n",
            " g2D)                                                            \n",
            "                                                                 \n",
            " conv2d_22 (Conv2D)          (None, 11, 11, 16)        2320      \n",
            "                                                                 \n",
            " max_pooling2d_12 (MaxPoolin  (None, 5, 5, 16)         0         \n",
            " g2D)                                                            \n",
            "                                                                 \n",
            " flatten_5 (Flatten)         (None, 400)               0         \n",
            "                                                                 \n",
            " dense_10 (Dense)            (None, 16)                6416      \n",
            "                                                                 \n",
            " dropout_7 (Dropout)         (None, 16)                0         \n",
            "                                                                 \n",
            " dense_11 (Dense)            (None, 10)                170       \n",
            "                                                                 \n",
            "=================================================================\n",
            "Total params: 9,066\n",
            "Trainable params: 9,066\n",
            "Non-trainable params: 0\n",
            "_________________________________________________________________\n"
          ]
        }
      ],
      "source": [
        "\n",
        "model = Sequential()\n",
        "model.add(Conv2D(16,(3,3),activation='relu',input_shape=(28,28,1)))\n",
        "model.add(MaxPooling2D(pool_size=(2,2)))\n",
        "#model.add(BatchNormalization())\n",
        "#model.add(Dropout(0.25))\n",
        "\n",
        "\n",
        "\n",
        "model.add(Conv2D(16,(3,3),activation='relu'))\n",
        "model.add(MaxPooling2D(pool_size=(2,2)))\n",
        "\n",
        "\n",
        "\n",
        "model.add(Flatten())\n",
        "model.add(Dense(16,activation='relu'))\n",
        "model.add(Dropout(0.25))\n",
        "\n",
        "model.add(Dense(10,activation='sigmoid'))\n",
        "\n",
        "model.summary()\n",
        "\n",
        "\n"
      ]
    },
    {
      "cell_type": "code",
      "execution_count": 25,
      "metadata": {
        "id": "CzSE5LtzlSSs"
      },
      "outputs": [],
      "source": [
        ""
      ]
    },
    {
      "cell_type": "code",
      "execution_count": 26,
      "metadata": {
        "id": "q_cQR4_7ar4n"
      },
      "outputs": [],
      "source": [
        "model.compile(optimizer='rmsprop' , loss='categorical_crossentropy' , metrics=['accuracy'])"
      ]
    },
    {
      "cell_type": "code",
      "execution_count": 27,
      "metadata": {
        "id": "-CPiSeVijeiE"
      },
      "outputs": [],
      "source": [
        "early_stopping = tf.keras.callbacks.EarlyStopping(\n",
        "    monitor=\"val_loss\",\n",
        "    min_delta=0.001,\n",
        "    patience=20,\n",
        "    verbose=2,\n",
        "    mode=\"auto\",\n",
        "    baseline=None,\n",
        "    restore_best_weights=False,\n",
        ")"
      ]
    },
    {
      "cell_type": "code",
      "execution_count": 28,
      "metadata": {
        "colab": {
          "base_uri": "https://localhost:8080/"
        },
        "id": "e7BOaWTbjhxb",
        "outputId": "67c00c3e-b0ba-41fa-9037-7c53f84d56cd"
      },
      "outputs": [
        {
          "output_type": "stream",
          "name": "stdout",
          "text": [
            "Epoch 1/100\n",
            "1875/1875 - 7s - loss: 0.6114 - accuracy: 0.7934 - val_loss: 0.1346 - val_accuracy: 0.9611 - 7s/epoch - 4ms/step\n",
            "Epoch 2/100\n",
            "1875/1875 - 6s - loss: 0.3139 - accuracy: 0.8969 - val_loss: 0.0881 - val_accuracy: 0.9748 - 6s/epoch - 3ms/step\n",
            "Epoch 3/100\n",
            "1875/1875 - 7s - loss: 0.2463 - accuracy: 0.9178 - val_loss: 0.0729 - val_accuracy: 0.9785 - 7s/epoch - 4ms/step\n",
            "Epoch 4/100\n",
            "1875/1875 - 6s - loss: 0.2014 - accuracy: 0.9347 - val_loss: 0.0672 - val_accuracy: 0.9801 - 6s/epoch - 3ms/step\n",
            "Epoch 5/100\n",
            "1875/1875 - 6s - loss: 0.1761 - accuracy: 0.9430 - val_loss: 0.0634 - val_accuracy: 0.9836 - 6s/epoch - 3ms/step\n",
            "Epoch 6/100\n",
            "1875/1875 - 6s - loss: 0.1673 - accuracy: 0.9469 - val_loss: 0.0564 - val_accuracy: 0.9842 - 6s/epoch - 3ms/step\n",
            "Epoch 7/100\n",
            "1875/1875 - 6s - loss: 0.1609 - accuracy: 0.9494 - val_loss: 0.0567 - val_accuracy: 0.9836 - 6s/epoch - 3ms/step\n",
            "Epoch 8/100\n",
            "1875/1875 - 7s - loss: 0.1605 - accuracy: 0.9498 - val_loss: 0.0557 - val_accuracy: 0.9846 - 7s/epoch - 4ms/step\n",
            "Epoch 9/100\n",
            "1875/1875 - 6s - loss: 0.1636 - accuracy: 0.9500 - val_loss: 0.0592 - val_accuracy: 0.9823 - 6s/epoch - 3ms/step\n",
            "Epoch 10/100\n",
            "1875/1875 - 6s - loss: 0.1704 - accuracy: 0.9476 - val_loss: 0.0518 - val_accuracy: 0.9846 - 6s/epoch - 3ms/step\n",
            "Epoch 11/100\n",
            "1875/1875 - 6s - loss: 0.1795 - accuracy: 0.9459 - val_loss: 0.0580 - val_accuracy: 0.9857 - 6s/epoch - 3ms/step\n",
            "Epoch 12/100\n",
            "1875/1875 - 7s - loss: 0.1798 - accuracy: 0.9458 - val_loss: 0.0630 - val_accuracy: 0.9813 - 7s/epoch - 4ms/step\n",
            "Epoch 13/100\n",
            "1875/1875 - 6s - loss: 0.1830 - accuracy: 0.9471 - val_loss: 0.0548 - val_accuracy: 0.9848 - 6s/epoch - 3ms/step\n",
            "Epoch 14/100\n",
            "1875/1875 - 6s - loss: 0.1850 - accuracy: 0.9462 - val_loss: 0.0597 - val_accuracy: 0.9851 - 6s/epoch - 3ms/step\n",
            "Epoch 15/100\n",
            "1875/1875 - 6s - loss: 0.1913 - accuracy: 0.9452 - val_loss: 0.0830 - val_accuracy: 0.9755 - 6s/epoch - 3ms/step\n",
            "Epoch 16/100\n",
            "1875/1875 - 7s - loss: 0.2008 - accuracy: 0.9429 - val_loss: 0.0637 - val_accuracy: 0.9823 - 7s/epoch - 4ms/step\n",
            "Epoch 17/100\n",
            "1875/1875 - 6s - loss: 0.2081 - accuracy: 0.9413 - val_loss: 0.1125 - val_accuracy: 0.9668 - 6s/epoch - 3ms/step\n",
            "Epoch 18/100\n",
            "1875/1875 - 6s - loss: 0.2062 - accuracy: 0.9406 - val_loss: 0.0806 - val_accuracy: 0.9796 - 6s/epoch - 3ms/step\n",
            "Epoch 19/100\n",
            "1875/1875 - 6s - loss: 0.2133 - accuracy: 0.9399 - val_loss: 0.1052 - val_accuracy: 0.9722 - 6s/epoch - 3ms/step\n",
            "Epoch 20/100\n",
            "1875/1875 - 6s - loss: 0.2195 - accuracy: 0.9385 - val_loss: 0.2050 - val_accuracy: 0.9420 - 6s/epoch - 3ms/step\n",
            "Epoch 21/100\n",
            "1875/1875 - 6s - loss: 0.2245 - accuracy: 0.9371 - val_loss: 0.1023 - val_accuracy: 0.9749 - 6s/epoch - 3ms/step\n",
            "Epoch 22/100\n",
            "1875/1875 - 7s - loss: 0.2200 - accuracy: 0.9372 - val_loss: 0.0717 - val_accuracy: 0.9800 - 7s/epoch - 4ms/step\n",
            "Epoch 23/100\n",
            "1875/1875 - 6s - loss: 0.2254 - accuracy: 0.9363 - val_loss: 0.0817 - val_accuracy: 0.9770 - 6s/epoch - 3ms/step\n",
            "Epoch 24/100\n",
            "1875/1875 - 6s - loss: 0.2296 - accuracy: 0.9380 - val_loss: 0.1112 - val_accuracy: 0.9774 - 6s/epoch - 3ms/step\n",
            "Epoch 25/100\n",
            "1875/1875 - 7s - loss: 0.2231 - accuracy: 0.9365 - val_loss: 0.1101 - val_accuracy: 0.9693 - 7s/epoch - 4ms/step\n",
            "Epoch 26/100\n",
            "1875/1875 - 7s - loss: 0.2418 - accuracy: 0.9335 - val_loss: 0.1247 - val_accuracy: 0.9627 - 7s/epoch - 4ms/step\n",
            "Epoch 27/100\n",
            "1875/1875 - 6s - loss: 0.2426 - accuracy: 0.9329 - val_loss: 0.0985 - val_accuracy: 0.9809 - 6s/epoch - 3ms/step\n",
            "Epoch 28/100\n",
            "1875/1875 - 7s - loss: 0.2355 - accuracy: 0.9334 - val_loss: 0.0893 - val_accuracy: 0.9763 - 7s/epoch - 4ms/step\n",
            "Epoch 29/100\n",
            "1875/1875 - 7s - loss: 0.2361 - accuracy: 0.9343 - val_loss: 0.0787 - val_accuracy: 0.9807 - 7s/epoch - 4ms/step\n",
            "Epoch 30/100\n",
            "1875/1875 - 7s - loss: 0.2388 - accuracy: 0.9347 - val_loss: 0.0838 - val_accuracy: 0.9802 - 7s/epoch - 4ms/step\n",
            "Epoch 30: early stopping\n"
          ]
        }
      ],
      "source": [
        "EPOCHS = 100\n",
        "history = model.fit(X_train,y_train , verbose = 2 , validation_data=(X_test,y_test),epochs  = EPOCHS,callbacks = early_stopping)"
      ]
    },
    {
      "cell_type": "code",
      "execution_count": 29,
      "metadata": {
        "colab": {
          "base_uri": "https://localhost:8080/"
        },
        "id": "tsI3uuacjmEC",
        "outputId": "f70c191d-2e48-4de2-e38e-a9210f93f7a9"
      },
      "outputs": [
        {
          "output_type": "stream",
          "name": "stdout",
          "text": [
            "313/313 [==============================] - 1s 3ms/step - loss: 0.0838 - accuracy: 0.9802\n",
            "Accuracy :  98.01999926567078\n"
          ]
        }
      ],
      "source": [
        "score = model.evaluate(X_test,y_test)\n",
        "accuracy = 100*score[1]\n",
        "\n",
        "print(\"Accuracy : \" , accuracy)"
      ]
    },
    {
      "cell_type": "code",
      "source": [
        "model1 = Sequential()\n",
        "model1.add(Conv2D(64,(3,3),activation='relu',input_shape=(28,28,1)))\n",
        "model1.add(Conv2D(32,(1,1),activation='relu'))\n",
        "model1.add(Conv2D(16,(1,1),activation='relu'))\n",
        "model1.add(MaxPooling2D(pool_size=(2,2)))\n",
        "#model.add(BatchNormalization())\n",
        "#model.add(Dropout(0.25))\n",
        "\n",
        "\n",
        "\n",
        "model1.add(Conv2D(16,(3,3),activation='relu'))\n",
        "model1.add(Conv2D(10,(1,1),activation='relu'))\n",
        "model1.add(MaxPooling2D(pool_size=(2,2)))\n",
        "model.add(Dropout(0.25))\n",
        "model.add(BatchNormalization())\n",
        "\n",
        "\n",
        "model1.add(Flatten())\n",
        "model1.add(Dense(16,activation='relu'))\n",
        "model1.add(Dropout(0.25))\n",
        "\n",
        "model1.add(Dense(10,activation='sigmoid'))\n",
        "\n",
        "model1.summary()"
      ],
      "metadata": {
        "colab": {
          "base_uri": "https://localhost:8080/"
        },
        "id": "dFvb6CCWx5m4",
        "outputId": "ddf923c1-13ee-445e-cdbd-245290d7b9e3"
      },
      "execution_count": 52,
      "outputs": [
        {
          "output_type": "stream",
          "name": "stdout",
          "text": [
            "Model: \"sequential_22\"\n",
            "_________________________________________________________________\n",
            " Layer (type)                Output Shape              Param #   \n",
            "=================================================================\n",
            " conv2d_91 (Conv2D)          (None, 26, 26, 64)        640       \n",
            "                                                                 \n",
            " conv2d_92 (Conv2D)          (None, 26, 26, 32)        2080      \n",
            "                                                                 \n",
            " conv2d_93 (Conv2D)          (None, 26, 26, 16)        528       \n",
            "                                                                 \n",
            " max_pooling2d_45 (MaxPoolin  (None, 13, 13, 16)       0         \n",
            " g2D)                                                            \n",
            "                                                                 \n",
            " conv2d_94 (Conv2D)          (None, 11, 11, 16)        2320      \n",
            "                                                                 \n",
            " conv2d_95 (Conv2D)          (None, 11, 11, 10)        170       \n",
            "                                                                 \n",
            " max_pooling2d_46 (MaxPoolin  (None, 5, 5, 10)         0         \n",
            " g2D)                                                            \n",
            "                                                                 \n",
            " flatten_22 (Flatten)        (None, 250)               0         \n",
            "                                                                 \n",
            " dense_44 (Dense)            (None, 16)                4016      \n",
            "                                                                 \n",
            " dropout_41 (Dropout)        (None, 16)                0         \n",
            "                                                                 \n",
            " dense_45 (Dense)            (None, 10)                170       \n",
            "                                                                 \n",
            "=================================================================\n",
            "Total params: 9,924\n",
            "Trainable params: 9,924\n",
            "Non-trainable params: 0\n",
            "_________________________________________________________________\n"
          ]
        }
      ]
    },
    {
      "cell_type": "code",
      "source": [
        "model1.compile(optimizer='rmsprop' , loss='categorical_crossentropy' , metrics=['accuracy'])"
      ],
      "metadata": {
        "id": "2Bq9iTyKx7v9"
      },
      "execution_count": 53,
      "outputs": []
    },
    {
      "cell_type": "code",
      "source": [
        "model1_hist = model1.fit(X_train,y_train , verbose = 2 , validation_data=(X_test,y_test),epochs  = EPOCHS,callbacks = early_stopping)"
      ],
      "metadata": {
        "colab": {
          "base_uri": "https://localhost:8080/"
        },
        "id": "02nZIMczyB-l",
        "outputId": "486ea377-d35a-4b57-9ee5-b161c7411c8e"
      },
      "execution_count": 54,
      "outputs": [
        {
          "output_type": "stream",
          "name": "stdout",
          "text": [
            "Epoch 1/100\n",
            "1875/1875 - 9s - loss: 0.5822 - accuracy: 0.8090 - val_loss: 0.1248 - val_accuracy: 0.9611 - 9s/epoch - 5ms/step\n",
            "Epoch 2/100\n",
            "1875/1875 - 9s - loss: 0.2850 - accuracy: 0.9066 - val_loss: 0.0821 - val_accuracy: 0.9750 - 9s/epoch - 5ms/step\n",
            "Epoch 3/100\n",
            "1875/1875 - 9s - loss: 0.2205 - accuracy: 0.9301 - val_loss: 0.0757 - val_accuracy: 0.9762 - 9s/epoch - 5ms/step\n",
            "Epoch 4/100\n",
            "1875/1875 - 9s - loss: 0.1917 - accuracy: 0.9383 - val_loss: 0.0657 - val_accuracy: 0.9804 - 9s/epoch - 5ms/step\n",
            "Epoch 5/100\n",
            "1875/1875 - 8s - loss: 0.1749 - accuracy: 0.9449 - val_loss: 0.0589 - val_accuracy: 0.9828 - 8s/epoch - 4ms/step\n",
            "Epoch 6/100\n",
            "1875/1875 - 8s - loss: 0.1687 - accuracy: 0.9470 - val_loss: 0.0647 - val_accuracy: 0.9823 - 8s/epoch - 4ms/step\n",
            "Epoch 7/100\n",
            "1875/1875 - 9s - loss: 0.1590 - accuracy: 0.9506 - val_loss: 0.0626 - val_accuracy: 0.9809 - 9s/epoch - 5ms/step\n",
            "Epoch 8/100\n",
            "1875/1875 - 9s - loss: 0.1558 - accuracy: 0.9516 - val_loss: 0.0538 - val_accuracy: 0.9825 - 9s/epoch - 5ms/step\n",
            "Epoch 9/100\n",
            "1875/1875 - 9s - loss: 0.1539 - accuracy: 0.9525 - val_loss: 0.0526 - val_accuracy: 0.9835 - 9s/epoch - 5ms/step\n",
            "Epoch 10/100\n",
            "1875/1875 - 9s - loss: 0.1503 - accuracy: 0.9541 - val_loss: 0.0545 - val_accuracy: 0.9846 - 9s/epoch - 5ms/step\n",
            "Epoch 11/100\n",
            "1875/1875 - 9s - loss: 0.1482 - accuracy: 0.9549 - val_loss: 0.0666 - val_accuracy: 0.9802 - 9s/epoch - 5ms/step\n",
            "Epoch 12/100\n",
            "1875/1875 - 9s - loss: 0.1419 - accuracy: 0.9573 - val_loss: 0.0497 - val_accuracy: 0.9839 - 9s/epoch - 5ms/step\n",
            "Epoch 13/100\n",
            "1875/1875 - 8s - loss: 0.1484 - accuracy: 0.9539 - val_loss: 0.0569 - val_accuracy: 0.9834 - 8s/epoch - 4ms/step\n",
            "Epoch 14/100\n",
            "1875/1875 - 8s - loss: 0.1503 - accuracy: 0.9548 - val_loss: 0.0710 - val_accuracy: 0.9770 - 8s/epoch - 4ms/step\n",
            "Epoch 15/100\n",
            "1875/1875 - 9s - loss: 0.1499 - accuracy: 0.9539 - val_loss: 0.0632 - val_accuracy: 0.9831 - 9s/epoch - 5ms/step\n",
            "Epoch 16/100\n",
            "1875/1875 - 9s - loss: 0.1544 - accuracy: 0.9529 - val_loss: 0.0708 - val_accuracy: 0.9819 - 9s/epoch - 5ms/step\n",
            "Epoch 17/100\n",
            "1875/1875 - 8s - loss: 0.1538 - accuracy: 0.9544 - val_loss: 0.0585 - val_accuracy: 0.9813 - 8s/epoch - 4ms/step\n",
            "Epoch 18/100\n",
            "1875/1875 - 9s - loss: 0.1536 - accuracy: 0.9541 - val_loss: 0.0544 - val_accuracy: 0.9859 - 9s/epoch - 5ms/step\n",
            "Epoch 19/100\n",
            "1875/1875 - 8s - loss: 0.1543 - accuracy: 0.9535 - val_loss: 0.0619 - val_accuracy: 0.9827 - 8s/epoch - 4ms/step\n",
            "Epoch 20/100\n",
            "1875/1875 - 8s - loss: 0.1584 - accuracy: 0.9530 - val_loss: 0.0769 - val_accuracy: 0.9779 - 8s/epoch - 4ms/step\n",
            "Epoch 21/100\n",
            "1875/1875 - 8s - loss: 0.1572 - accuracy: 0.9538 - val_loss: 0.0722 - val_accuracy: 0.9827 - 8s/epoch - 4ms/step\n",
            "Epoch 22/100\n",
            "1875/1875 - 8s - loss: 0.1619 - accuracy: 0.9530 - val_loss: 0.0720 - val_accuracy: 0.9800 - 8s/epoch - 4ms/step\n",
            "Epoch 23/100\n",
            "1875/1875 - 8s - loss: 0.1649 - accuracy: 0.9502 - val_loss: 0.0728 - val_accuracy: 0.9838 - 8s/epoch - 4ms/step\n",
            "Epoch 24/100\n",
            "1875/1875 - 9s - loss: 0.1712 - accuracy: 0.9508 - val_loss: 0.0685 - val_accuracy: 0.9806 - 9s/epoch - 5ms/step\n",
            "Epoch 25/100\n",
            "1875/1875 - 9s - loss: 0.1662 - accuracy: 0.9503 - val_loss: 0.0667 - val_accuracy: 0.9824 - 9s/epoch - 5ms/step\n",
            "Epoch 26/100\n",
            "1875/1875 - 9s - loss: 0.1699 - accuracy: 0.9514 - val_loss: 0.0697 - val_accuracy: 0.9826 - 9s/epoch - 5ms/step\n",
            "Epoch 27/100\n",
            "1875/1875 - 9s - loss: 0.1752 - accuracy: 0.9503 - val_loss: 0.0647 - val_accuracy: 0.9822 - 9s/epoch - 5ms/step\n",
            "Epoch 28/100\n",
            "1875/1875 - 9s - loss: 0.1734 - accuracy: 0.9505 - val_loss: 0.0630 - val_accuracy: 0.9829 - 9s/epoch - 5ms/step\n",
            "Epoch 29/100\n",
            "1875/1875 - 8s - loss: 0.1789 - accuracy: 0.9497 - val_loss: 0.0805 - val_accuracy: 0.9763 - 8s/epoch - 4ms/step\n",
            "Epoch 30/100\n",
            "1875/1875 - 9s - loss: 0.1789 - accuracy: 0.9496 - val_loss: 0.0718 - val_accuracy: 0.9776 - 9s/epoch - 5ms/step\n",
            "Epoch 31/100\n",
            "1875/1875 - 9s - loss: 0.1706 - accuracy: 0.9506 - val_loss: 0.1713 - val_accuracy: 0.9468 - 9s/epoch - 5ms/step\n",
            "Epoch 32/100\n",
            "1875/1875 - 8s - loss: 0.1782 - accuracy: 0.9496 - val_loss: 0.0817 - val_accuracy: 0.9816 - 8s/epoch - 4ms/step\n",
            "Epoch 32: early stopping\n"
          ]
        }
      ]
    },
    {
      "cell_type": "code",
      "source": [
        "model1_score = model1.evaluate(X_test,y_test)\n",
        "accuracy = 100 * model1_score[1]\n",
        "\n",
        "print(\"Accuracy : \" , accuracy )"
      ],
      "metadata": {
        "colab": {
          "base_uri": "https://localhost:8080/"
        },
        "id": "I8BCtpizySgN",
        "outputId": "6a731e32-94ef-4ede-f723-a6fd148273e8"
      },
      "execution_count": 34,
      "outputs": [
        {
          "output_type": "stream",
          "name": "stdout",
          "text": [
            "313/313 [==============================] - 1s 3ms/step - loss: 0.0766 - accuracy: 0.9800\n",
            "Accuracy :  98.00000190734863\n"
          ]
        }
      ]
    },
    {
      "cell_type": "code",
      "source": [
        ""
      ],
      "metadata": {
        "id": "-N8g5oZF1LBP"
      },
      "execution_count": null,
      "outputs": []
    }
  ],
  "metadata": {
    "accelerator": "GPU",
    "colab": {
      "collapsed_sections": [],
      "name": "10000_TrainableParameters.ipynb",
      "provenance": [],
      "authorship_tag": "ABX9TyO+pCyQW/fWT5Mjy+E0wN6y",
      "include_colab_link": true
    },
    "gpuClass": "standard",
    "kernelspec": {
      "display_name": "Python 3",
      "name": "python3"
    },
    "language_info": {
      "name": "python"
    }
  },
  "nbformat": 4,
  "nbformat_minor": 0
}